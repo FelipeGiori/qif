{
 "cells": [
  {
   "cell_type": "code",
   "execution_count": 1,
   "metadata": {
    "ExecuteTime": {
     "end_time": "2020-09-04T18:47:46.535728Z",
     "start_time": "2020-09-04T18:47:46.256443Z"
    }
   },
   "outputs": [],
   "source": [
    "import qif\n",
    "import numpy as np\n",
    "import pandas as pd\n",
    "\n",
    "import matplotlib.pyplot as plt\n",
    "plt.style.use(\"seaborn-whitegrid\")"
   ]
  },
  {
   "cell_type": "markdown",
   "metadata": {},
   "source": [
    "## SUP2"
   ]
  },
  {
   "cell_type": "code",
   "execution_count": 2,
   "metadata": {
    "ExecuteTime": {
     "end_time": "2020-09-04T18:47:46.539162Z",
     "start_time": "2020-09-04T18:47:46.536741Z"
    }
   },
   "outputs": [],
   "source": [
    "def confusion_matrix(flow):\n",
    "    flow['pred'] = flow['direct_flow'] > flow['reverse_flow']\n",
    "    flow['pred'] = flow['pred'].replace({True:\"direct\", False:\"reverse\"})\n",
    "    \n",
    "    return flow[['label', 'pred']].groupby(['label', 'pred']).size().unstack().fillna(0)"
   ]
  },
  {
   "cell_type": "code",
   "execution_count": 3,
   "metadata": {
    "ExecuteTime": {
     "end_time": "2020-09-04T18:47:46.551727Z",
     "start_time": "2020-09-04T18:47:46.539941Z"
    }
   },
   "outputs": [],
   "source": [
    "df_info = pd.read_csv(\"data/SUP2data_split/CEdata_train_publicinfo.csv\")\n",
    "df_info.columns = ['sample_id', 'a_type', 'b_type']\n",
    "\n",
    "# target 1: Target [1 for A->B; -1 otherwise]\n",
    "# target 2: Details [1 for A->B; 2 for A<-B; 3 for A-B; 4 for A|B]']\n",
    "df_target = pd.read_csv(\"data/SUP2data_split/CEdata_train_target.csv\")\n",
    "df_target.columns = ['sample_id', 'target', 'details']"
   ]
  },
  {
   "cell_type": "code",
   "execution_count": 4,
   "metadata": {
    "ExecuteTime": {
     "end_time": "2020-09-04T18:47:46.559259Z",
     "start_time": "2020-09-04T18:47:46.552568Z"
    }
   },
   "outputs": [
    {
     "data": {
      "text/html": [
       "<div>\n",
       "<style scoped>\n",
       "    .dataframe tbody tr th:only-of-type {\n",
       "        vertical-align: middle;\n",
       "    }\n",
       "\n",
       "    .dataframe tbody tr th {\n",
       "        vertical-align: top;\n",
       "    }\n",
       "\n",
       "    .dataframe thead th {\n",
       "        text-align: right;\n",
       "    }\n",
       "</style>\n",
       "<table border=\"1\" class=\"dataframe\">\n",
       "  <thead>\n",
       "    <tr style=\"text-align: right;\">\n",
       "      <th></th>\n",
       "      <th>sample_id</th>\n",
       "      <th>a_type</th>\n",
       "      <th>b_type</th>\n",
       "    </tr>\n",
       "  </thead>\n",
       "  <tbody>\n",
       "    <tr>\n",
       "      <th>0</th>\n",
       "      <td>train1</td>\n",
       "      <td>Binary</td>\n",
       "      <td>Numerical</td>\n",
       "    </tr>\n",
       "    <tr>\n",
       "      <th>1</th>\n",
       "      <td>train2</td>\n",
       "      <td>Numerical</td>\n",
       "      <td>Numerical</td>\n",
       "    </tr>\n",
       "    <tr>\n",
       "      <th>2</th>\n",
       "      <td>train3</td>\n",
       "      <td>Numerical</td>\n",
       "      <td>Numerical</td>\n",
       "    </tr>\n",
       "    <tr>\n",
       "      <th>3</th>\n",
       "      <td>train4</td>\n",
       "      <td>Numerical</td>\n",
       "      <td>Categorical</td>\n",
       "    </tr>\n",
       "    <tr>\n",
       "      <th>4</th>\n",
       "      <td>train5</td>\n",
       "      <td>Numerical</td>\n",
       "      <td>Binary</td>\n",
       "    </tr>\n",
       "  </tbody>\n",
       "</table>\n",
       "</div>"
      ],
      "text/plain": [
       "  sample_id     a_type       b_type\n",
       "0    train1     Binary    Numerical\n",
       "1    train2  Numerical    Numerical\n",
       "2    train3  Numerical    Numerical\n",
       "3    train4  Numerical  Categorical\n",
       "4    train5  Numerical       Binary"
      ]
     },
     "execution_count": 4,
     "metadata": {},
     "output_type": "execute_result"
    }
   ],
   "source": [
    "df_info.head()"
   ]
  },
  {
   "cell_type": "code",
   "execution_count": 5,
   "metadata": {
    "ExecuteTime": {
     "end_time": "2020-09-04T18:47:46.564239Z",
     "start_time": "2020-09-04T18:47:46.560162Z"
    }
   },
   "outputs": [
    {
     "data": {
      "text/html": [
       "<div>\n",
       "<style scoped>\n",
       "    .dataframe tbody tr th:only-of-type {\n",
       "        vertical-align: middle;\n",
       "    }\n",
       "\n",
       "    .dataframe tbody tr th {\n",
       "        vertical-align: top;\n",
       "    }\n",
       "\n",
       "    .dataframe thead th {\n",
       "        text-align: right;\n",
       "    }\n",
       "</style>\n",
       "<table border=\"1\" class=\"dataframe\">\n",
       "  <thead>\n",
       "    <tr style=\"text-align: right;\">\n",
       "      <th></th>\n",
       "      <th>sample_id</th>\n",
       "      <th>target</th>\n",
       "      <th>details</th>\n",
       "    </tr>\n",
       "  </thead>\n",
       "  <tbody>\n",
       "    <tr>\n",
       "      <th>0</th>\n",
       "      <td>train1</td>\n",
       "      <td>-1</td>\n",
       "      <td>2</td>\n",
       "    </tr>\n",
       "    <tr>\n",
       "      <th>1</th>\n",
       "      <td>train2</td>\n",
       "      <td>-1</td>\n",
       "      <td>2</td>\n",
       "    </tr>\n",
       "    <tr>\n",
       "      <th>2</th>\n",
       "      <td>train3</td>\n",
       "      <td>0</td>\n",
       "      <td>4</td>\n",
       "    </tr>\n",
       "    <tr>\n",
       "      <th>3</th>\n",
       "      <td>train4</td>\n",
       "      <td>-1</td>\n",
       "      <td>2</td>\n",
       "    </tr>\n",
       "    <tr>\n",
       "      <th>4</th>\n",
       "      <td>train5</td>\n",
       "      <td>-1</td>\n",
       "      <td>2</td>\n",
       "    </tr>\n",
       "  </tbody>\n",
       "</table>\n",
       "</div>"
      ],
      "text/plain": [
       "  sample_id  target  details\n",
       "0    train1      -1        2\n",
       "1    train2      -1        2\n",
       "2    train3       0        4\n",
       "3    train4      -1        2\n",
       "4    train5      -1        2"
      ]
     },
     "execution_count": 5,
     "metadata": {},
     "output_type": "execute_result"
    }
   ],
   "source": [
    "df_target.head()"
   ]
  },
  {
   "cell_type": "code",
   "execution_count": 6,
   "metadata": {
    "ExecuteTime": {
     "end_time": "2020-09-04T18:47:46.576834Z",
     "start_time": "2020-09-04T18:47:46.564959Z"
    }
   },
   "outputs": [],
   "source": [
    "df_info = df_info.merge(df_target)\n",
    "dfs = df_info.query(\"a_type != 'Numerical' and b_type != 'Numerical' and (details == 1 or details == 2)\")"
   ]
  },
  {
   "cell_type": "code",
   "execution_count": 7,
   "metadata": {
    "ExecuteTime": {
     "end_time": "2020-09-04T18:47:47.155077Z",
     "start_time": "2020-09-04T18:47:46.578122Z"
    }
   },
   "outputs": [],
   "source": [
    "data = []\n",
    "\n",
    "for i, row in dfs.iterrows():\n",
    "    filename = \"data/SUP2data_split/\" + row['sample_id'] + \".txt\"\n",
    "    \n",
    "    df_sample = pd.read_csv(filename, sep=\"\\t\", header=None)\n",
    "    df_sample.columns = ['a', 'b']\n",
    "    \n",
    "    bayes_leakage = qif.BayesLeakage(df_sample)\n",
    "    direct_flow, reverse_flow = bayes_leakage.compute_flows(x='a', y='b')\n",
    "    \n",
    "    data.append([row['sample_id'], direct_flow, reverse_flow, row['target']])\n",
    "    \n",
    "flows = pd.DataFrame(data, columns=['sample_id', 'direct_flow', 'reverse_flow', 'target'])\n",
    "flows['label'] = flows['target'].replace({1:'Causal', -1:'Anticausal'})"
   ]
  },
  {
   "cell_type": "code",
   "execution_count": 8,
   "metadata": {
    "ExecuteTime": {
     "end_time": "2020-09-04T18:47:47.338862Z",
     "start_time": "2020-09-04T18:47:47.156075Z"
    }
   },
   "outputs": [
    {
     "data": {
      "image/png": "[encoded data removed]",
      "text/plain": [
       "<Figure size 720x720 with 1 Axes>"
      ]
     },
     "metadata": {},
     "output_type": "display_data"
    }
   ],
   "source": [
    "plt.figure(figsize=(10, 10))\n",
    "\n",
    "groups = flows.groupby(\"label\")\n",
    "for name, group in groups:\n",
    "    plt.plot(group['reverse_flow'], group['direct_flow'], marker=\"o\", linestyle=\"\", label=name, alpha=0.66)\n",
    "plt.plot([0.95, 3], [0.95, 3], color='black', linewidth=0.5, linestyle='dashed')\n",
    "plt.xlabel(\"Reverse Flow\", fontsize=14)\n",
    "plt.ylabel(\"Direct Flow\", fontsize=14)\n",
    "plt.xlim([0.95, 2])\n",
    "plt.ylim([0.95, 2])\n",
    "plt.legend(fontsize=14)\n",
    "plt.savefig(\"sup.png\", dpi=120)\n",
    "#plt.show()"
   ]
  },
  {
   "cell_type": "code",
   "execution_count": 9,
   "metadata": {
    "ExecuteTime": {
     "end_time": "2020-09-04T18:47:47.346622Z",
     "start_time": "2020-09-04T18:47:47.339638Z"
    }
   },
   "outputs": [
    {
     "data": {
      "text/html": [
       "<div>\n",
       "<style scoped>\n",
       "    .dataframe tbody tr th:only-of-type {\n",
       "        vertical-align: middle;\n",
       "    }\n",
       "\n",
       "    .dataframe tbody tr th {\n",
       "        vertical-align: top;\n",
       "    }\n",
       "\n",
       "    .dataframe thead th {\n",
       "        text-align: right;\n",
       "    }\n",
       "</style>\n",
       "<table border=\"1\" class=\"dataframe\">\n",
       "  <thead>\n",
       "    <tr style=\"text-align: right;\">\n",
       "      <th>pred</th>\n",
       "      <th>direct</th>\n",
       "      <th>reverse</th>\n",
       "    </tr>\n",
       "    <tr>\n",
       "      <th>label</th>\n",
       "      <th></th>\n",
       "      <th></th>\n",
       "    </tr>\n",
       "  </thead>\n",
       "  <tbody>\n",
       "    <tr>\n",
       "      <th>Anticausal</th>\n",
       "      <td>39</td>\n",
       "      <td>36</td>\n",
       "    </tr>\n",
       "    <tr>\n",
       "      <th>Causal</th>\n",
       "      <td>28</td>\n",
       "      <td>47</td>\n",
       "    </tr>\n",
       "  </tbody>\n",
       "</table>\n",
       "</div>"
      ],
      "text/plain": [
       "pred        direct  reverse\n",
       "label                      \n",
       "Anticausal      39       36\n",
       "Causal          28       47"
      ]
     },
     "execution_count": 9,
     "metadata": {},
     "output_type": "execute_result"
    }
   ],
   "source": [
    "confusion_matrix(flows)"
   ]
  },
  {
   "cell_type": "markdown",
   "metadata": {},
   "source": [
    "## WEBDAV"
   ]
  },
  {
   "cell_type": "code",
   "execution_count": 10,
   "metadata": {
    "ExecuteTime": {
     "end_time": "2020-09-04T18:47:47.356504Z",
     "start_time": "2020-09-04T18:47:47.347347Z"
    }
   },
   "outputs": [],
   "source": [
    "filename = \"data/pairs/pairmeta.txt\"\n",
    "pairmeta = pd.read_csv(filename, sep=\" \", header=None, dtype=str)\n",
    "pairmeta.columns = ['suffix', 'label', 'x1', 'x2', 'x3', 'x4']\n",
    "pairmeta.query(\"label == '1' or label == '2'\", inplace=True)\n",
    "pairmeta.drop(columns=['x1', 'x2', 'x3', 'x4'], inplace=True)"
   ]
  },
  {
   "cell_type": "code",
   "execution_count": 11,
   "metadata": {
    "ExecuteTime": {
     "end_time": "2020-09-04T18:47:47.359701Z",
     "start_time": "2020-09-04T18:47:47.357354Z"
    }
   },
   "outputs": [],
   "source": [
    "def check_category(df_sample, threshold=0.2):\n",
    "    n_x = df_sample.x.nunique()/df_sample.shape[0]\n",
    "    n_y = df_sample.y.nunique()/df_sample.shape[0]\n",
    "    \n",
    "    if n_x < threshold and n_y < threshold:\n",
    "        return True\n",
    "    else:\n",
    "        return False"
   ]
  },
  {
   "cell_type": "code",
   "execution_count": 16,
   "metadata": {
    "ExecuteTime": {
     "end_time": "2020-09-04T18:51:44.533623Z",
     "start_time": "2020-09-04T18:51:44.294255Z"
    }
   },
   "outputs": [],
   "source": [
    "data = []\n",
    "\n",
    "for suf, label in pairmeta.values:\n",
    "    filename = \"data/pairs/pair\" + suf + \".txt\"\n",
    "    \n",
    "    try:\n",
    "        df_sample = pd.read_csv(filename, sep=\" \", header=None)\n",
    "        \n",
    "        if df_sample.shape[1] == 1:\n",
    "            df_sample = pd.read_csv(filename, sep=\"\\t\", header=None)\n",
    "\n",
    "        if df_sample.shape[1] == 2:\n",
    "            df_sample.columns = ['x', 'y']\n",
    "            \n",
    "            if check_category(df_sample, threshold=0.1):\n",
    "                bayes_leakage = qif.BayesLeakage(df_sample)\n",
    "                direct_flow, reverse_flow = bayes_leakage.compute_flows(x='x', y='y')\n",
    "\n",
    "                data.append([suf, label, direct_flow, reverse_flow])\n",
    "    except:\n",
    "        pass"
   ]
  },
  {
   "cell_type": "code",
   "execution_count": 17,
   "metadata": {
    "ExecuteTime": {
     "end_time": "2020-09-04T18:51:44.913256Z",
     "start_time": "2020-09-04T18:51:44.910225Z"
    }
   },
   "outputs": [],
   "source": [
    "flows_pairs = pd.DataFrame(data, columns=['base', 'label', 'direct_flow', 'reverse_flow'])\n",
    "flows_pairs['label'] = flows_pairs['label'].replace({'1':'Causal', '2':'Anticausal'})"
   ]
  },
  {
   "cell_type": "code",
   "execution_count": 18,
   "metadata": {
    "ExecuteTime": {
     "end_time": "2020-09-04T18:51:45.789740Z",
     "start_time": "2020-09-04T18:51:45.628211Z"
    }
   },
   "outputs": [
    {
     "data": {
      "image/png": "[encoded data removed]",
      "text/plain": [
       "<Figure size 720x720 with 1 Axes>"
      ]
     },
     "metadata": {},
     "output_type": "display_data"
    }
   ],
   "source": [
    "plt.figure(figsize=(10, 10))\n",
    "\n",
    "groups = flows_pairs.groupby(\"label\")\n",
    "for name, group in groups:\n",
    "    plt.plot(group['reverse_flow'], group['direct_flow'], marker=\"o\", linestyle=\"\", label=name, alpha=0.66)\n",
    "plt.plot([0.95, 6], [0.95, 6], color='black', linewidth=0.5, linestyle='dashed')\n",
    "plt.xlabel(\"Reverse Flow\", fontsize=14)\n",
    "plt.ylabel(\"Direct Flow\", fontsize=14)\n",
    "plt.xlim([0.95, 6])\n",
    "plt.ylim([0.95, 6])\n",
    "plt.legend(fontsize=14)\n",
    "#plt.show()\n",
    "plt.savefig(\"webdav.png\", dpi=120)"
   ]
  },
  {
   "cell_type": "code",
   "execution_count": 15,
   "metadata": {
    "ExecuteTime": {
     "end_time": "2020-09-04T18:47:47.988741Z",
     "start_time": "2020-09-04T18:47:47.981393Z"
    }
   },
   "outputs": [
    {
     "data": {
      "text/html": [
       "<div>\n",
       "<style scoped>\n",
       "    .dataframe tbody tr th:only-of-type {\n",
       "        vertical-align: middle;\n",
       "    }\n",
       "\n",
       "    .dataframe tbody tr th {\n",
       "        vertical-align: top;\n",
       "    }\n",
       "\n",
       "    .dataframe thead th {\n",
       "        text-align: right;\n",
       "    }\n",
       "</style>\n",
       "<table border=\"1\" class=\"dataframe\">\n",
       "  <thead>\n",
       "    <tr style=\"text-align: right;\">\n",
       "      <th>pred</th>\n",
       "      <th>direct</th>\n",
       "      <th>reverse</th>\n",
       "    </tr>\n",
       "    <tr>\n",
       "      <th>label</th>\n",
       "      <th></th>\n",
       "      <th></th>\n",
       "    </tr>\n",
       "  </thead>\n",
       "  <tbody>\n",
       "    <tr>\n",
       "      <th>Anticausal</th>\n",
       "      <td>1.0</td>\n",
       "      <td>0.0</td>\n",
       "    </tr>\n",
       "    <tr>\n",
       "      <th>Causal</th>\n",
       "      <td>11.0</td>\n",
       "      <td>6.0</td>\n",
       "    </tr>\n",
       "  </tbody>\n",
       "</table>\n",
       "</div>"
      ],
      "text/plain": [
       "pred        direct  reverse\n",
       "label                      \n",
       "Anticausal     1.0      0.0\n",
       "Causal        11.0      6.0"
      ]
     },
     "execution_count": 15,
     "metadata": {},
     "output_type": "execute_result"
    }
   ],
   "source": [
    "confusion_matrix(flows_pairs)"
   ]
  }
 ],
 "metadata": {
  "kernelspec": {
   "display_name": "Python 3",
   "language": "python",
   "name": "python3"
  },
  "language_info": {
   "codemirror_mode": {
    "name": "ipython",
    "version": 3
   },
   "file_extension": ".py",
   "mimetype": "text/x-python",
   "name": "python",
   "nbconvert_exporter": "python",
   "pygments_lexer": "ipython3",
   "version": "3.7.8"
  },
  "toc": {
   "base_numbering": 1,
   "nav_menu": {},
   "number_sections": true,
   "sideBar": true,
   "skip_h1_title": false,
   "title_cell": "Table of Contents",
   "title_sidebar": "Contents",
   "toc_cell": false,
   "toc_position": {},
   "toc_section_display": true,
   "toc_window_display": false
  }
 },
 "nbformat": 4,
 "nbformat_minor": 4
}
